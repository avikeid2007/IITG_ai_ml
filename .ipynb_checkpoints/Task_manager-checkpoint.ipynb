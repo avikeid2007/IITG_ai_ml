{
 "cells": [
  {
   "cell_type": "code",
   "execution_count": 258,
   "id": "60f00ba6-36f5-4fe3-93a3-4f18904f746a",
   "metadata": {},
   "outputs": [],
   "source": [
    "import hashlib\n",
    "import os\n",
    "import json"
   ]
  },
  {
   "cell_type": "code",
   "execution_count": 259,
   "id": "7673fad1-9f5c-40c5-82d1-a5f4b9c6ec73",
   "metadata": {},
   "outputs": [],
   "source": [
    "current_user = None\n",
    "user_file = \"users.txt\"\n",
    "task_folder = \"my_tasks\"\n",
    "if not os.path.exists(task_folder):\n",
    "    os.makedirs(task_folder)"
   ]
  },
  {
   "cell_type": "code",
   "execution_count": 288,
   "id": "5ab31597-9d95-4466-927e-c0c1b56ff5e0",
   "metadata": {},
   "outputs": [],
   "source": [
    "def password_hashing(password):\n",
    "    return hashlib.sha256(password.encode()).hexdigest()"
   ]
  },
  {
   "cell_type": "code",
   "execution_count": 261,
   "id": "234bc24b-7466-481f-8314-31e29183e3c5",
   "metadata": {},
   "outputs": [],
   "source": [
    "def load_users():\n",
    "    users = {}\n",
    "    if os.path.exists(user_file):\n",
    "        with open(user_file, \"r\") as f:\n",
    "            for line in f:\n",
    "                username, hashed = line.strip().split(\":\")\n",
    "                users[username] = hashed\n",
    "    return users"
   ]
  },
  {
   "cell_type": "code",
   "execution_count": 262,
   "id": "d42bb876-7d20-411b-9b59-f29a8929b267",
   "metadata": {},
   "outputs": [],
   "source": [
    "def save_user(username, hashed_password):\n",
    "    with open(user_file, \"a\") as f:\n",
    "        f.write(f\"{username}:{hashed_password}\\n\")"
   ]
  },
  {
   "cell_type": "code",
   "execution_count": 345,
   "id": "7d88c19b-8f07-4cf8-9c7f-f913744ecd8e",
   "metadata": {},
   "outputs": [],
   "source": [
    "def login():\n",
    "    global current_user\n",
    "    users = load_users()\n",
    "    username = input(\"Username: \")\n",
    "    password = input(\"Password: \")\n",
    "    hashed = password_hashing(password)\n",
    "    if users.get(username) == hashed:\n",
    "        current_user = username\n",
    "        print(\"Login successful.\")\n",
    "    else:\n",
    "        print(\"Invalid username or password.\")"
   ]
  },
  {
   "cell_type": "code",
   "execution_count": 401,
   "id": "ccedf443-b5e6-498e-8dc7-0cf5139ae6d7",
   "metadata": {},
   "outputs": [],
   "source": [
    "def get_tasks_file():\n",
    "    return os.path.join(task_folder, f\"{current_user}_tasks.json\")"
   ]
  },
  {
   "cell_type": "code",
   "execution_count": 396,
   "id": "c82bd611-8672-4e2a-8cde-1a9c5eb4f5dd",
   "metadata": {},
   "outputs": [],
   "source": [
    "def load_tasks():\n",
    "    tasks_file = get_tasks_file()\n",
    "    if os.path.exists(tasks_file):\n",
    "        with open(tasks_file, \"r\") as f:\n",
    "            return json.load(f)\n",
    "    return []\n"
   ]
  },
  {
   "cell_type": "code",
   "execution_count": 366,
   "id": "c63b112b-5e0f-4e5d-bf81-2dea9bb326f0",
   "metadata": {},
   "outputs": [],
   "source": [
    "def save_tasks(tasks):\n",
    "    tasks_file = get_tasks_file()\n",
    "    with open(tasks_file, \"w\") as f:\n",
    "        json.dump(tasks, f)\n"
   ]
  },
  {
   "cell_type": "code",
   "execution_count": 446,
   "id": "34d8ddee-ca11-4694-b911-6c9b0de87f61",
   "metadata": {},
   "outputs": [],
   "source": [
    "def add_task():\n",
    "    tasks = load_tasks()\n",
    "    desc = input(\"Task description/title: \")\n",
    "    task_id = max([t[\"id\"] for t in tasks], default=0)+1\n",
    "    task = {\"id\": task_id, \"desc\": desc, \"status\": \"Pending\"}\n",
    "    tasks.append(task)\n",
    "    save_tasks(tasks)\n",
    "    print(f\" A new Task added with ID {task_id}\")"
   ]
  },
  {
   "cell_type": "code",
   "execution_count": 410,
   "id": "ec1a3b89-3f98-4f0a-8f15-c304160a214c",
   "metadata": {},
   "outputs": [],
   "source": [
    "def view_tasks():\n",
    "    tasks = load_tasks()\n",
    "    if not tasks:\n",
    "        print(\"No tasks found.\")\n",
    "        return\n",
    "    for t in tasks:\n",
    "        print(f\"ID: {t['id']} | {t['desc']} | {t['status']}\")"
   ]
  },
  {
   "cell_type": "code",
   "execution_count": 447,
   "id": "5510f94d-32cc-42ad-9531-bc29c38e152d",
   "metadata": {},
   "outputs": [],
   "source": [
    "def mark_completed():\n",
    "    tasks = load_tasks()\n",
    "    tid = int(input(\"Enter task ID to mark as completed: \"))\n",
    "    for t in tasks:\n",
    "        if t[\"id\"] == tid:\n",
    "            t[\"status\"] = \"Completed\"\n",
    "            save_tasks(tasks)\n",
    "            print(\"Task marked as completed\")\n",
    "            return\n",
    "    print(f\"Task Id({tid}) not found\")"
   ]
  },
  {
   "cell_type": "code",
   "execution_count": 271,
   "id": "e51d2f56-0f7c-418c-9c3e-adb0dfaabdf3",
   "metadata": {},
   "outputs": [],
   "source": [
    "def delete_task():\n",
    "    tasks = load_tasks()\n",
    "    tid = int(input(\"Enter task ID to delete: \"))\n",
    "    new_tasks = [t for t in tasks if t[\"id\"] != tid]\n",
    "    if len(new_tasks) == len(tasks):\n",
    "        print(f\"Task id{tid} not found\")\n",
    "    else:\n",
    "        save_tasks(new_tasks)\n",
    "        print(f\"Task id{tid} deleted.\")\n",
    "\n"
   ]
  },
  {
   "cell_type": "code",
   "execution_count": 272,
   "id": "13afc914-f4e9-41cf-9b8d-8d474df1942c",
   "metadata": {},
   "outputs": [],
   "source": [
    "def logout():\n",
    "    global current_user\n",
    "    print(f\"User ({current_user}) logged out.\")\n",
    "    current_user = None"
   ]
  },
  {
   "cell_type": "code",
   "execution_count": 532,
   "id": "57fbebb0-7709-4764-8576-e2cac4cc4c72",
   "metadata": {},
   "outputs": [],
   "source": [
    "def display_menu():\n",
    "    while True:\n",
    "        print(\"---- Task Manager ----\")\n",
    "        #print(current_user)\n",
    "        if current_user is None:\n",
    "            print(\"1. Register \\n2. Login \\n3. Exit\")\n",
    "            choice = input(\"enter your choice: \")\n",
    "            if choice == \"1\":\n",
    "                register()\n",
    "            elif choice == \"2\":\n",
    "                login()\n",
    "            elif choice == \"3\":\n",
    "                break\n",
    "            else:\n",
    "                print(\"Invalid choice.\")\n",
    "        else:\n",
    "            print(f\"---- Welcome {current_user} ----\")\n",
    "            print(\"1. Add Task \\n2. View Tasks \\n3. Mark Completed \\n4. Delete Task \\n5. Logout \\n6. Exit\")\n",
    "            choice = input(\"enter your choice: \")\n",
    "            if choice == \"1\":\n",
    "                add_task()\n",
    "            elif choice == \"2\":\n",
    "                view_tasks()\n",
    "            elif choice == \"3\":\n",
    "                mark_completed()\n",
    "            elif choice == \"4\":\n",
    "                delete_task()\n",
    "            elif choice == \"5\":\n",
    "                logout()\n",
    "            elif choice == \"6\":\n",
    "                break\n",
    "            else:\n",
    "                print(\"Invalid choice.\")"
   ]
  },
  {
   "cell_type": "code",
   "execution_count": 274,
   "id": "9f187f7c-4eb8-4170-95c8-8bc38e65ecce",
   "metadata": {},
   "outputs": [
    {
     "name": "stdout",
     "output_type": "stream",
     "text": [
      "---- Task Manager ----\n",
      "1. Register \n",
      "2. Login \n",
      "3. Exit\n"
     ]
    },
    {
     "name": "stdin",
     "output_type": "stream",
     "text": [
      "enter your choice:  1\n",
      "Enter new username:  xavi\n",
      "Enter new password:  123\n"
     ]
    },
    {
     "name": "stdout",
     "output_type": "stream",
     "text": [
      "Registration successful.\n",
      "---- Task Manager ----\n",
      "1. Register \n",
      "2. Login \n",
      "3. Exit\n"
     ]
    },
    {
     "name": "stdin",
     "output_type": "stream",
     "text": [
      "enter your choice:  2\n",
      "Username:  xavi\n",
      "Password:  123\n"
     ]
    },
    {
     "name": "stdout",
     "output_type": "stream",
     "text": [
      "Login successful.\n",
      "---- Task Manager ----\n",
      "---- Welcome xavi ----\n",
      "1. Add Task \n",
      "2. View Tasks \n",
      "3. Mark Completed \n",
      "4. Delete Task \n",
      "5. Logout \n",
      "6. Exit\n"
     ]
    },
    {
     "name": "stdin",
     "output_type": "stream",
     "text": [
      "enter your choice:  1\n",
      "Task description/title:  Buy grocery\n"
     ]
    },
    {
     "name": "stdout",
     "output_type": "stream",
     "text": [
      " A new Task added with ID 1\n",
      "---- Task Manager ----\n",
      "---- Welcome xavi ----\n",
      "1. Add Task \n",
      "2. View Tasks \n",
      "3. Mark Completed \n",
      "4. Delete Task \n",
      "5. Logout \n",
      "6. Exit\n"
     ]
    },
    {
     "name": "stdin",
     "output_type": "stream",
     "text": [
      "enter your choice:  1\n",
      "Task description/title:  Visit Doctor\n"
     ]
    },
    {
     "name": "stdout",
     "output_type": "stream",
     "text": [
      " A new Task added with ID 2\n",
      "---- Task Manager ----\n",
      "---- Welcome xavi ----\n",
      "1. Add Task \n",
      "2. View Tasks \n",
      "3. Mark Completed \n",
      "4. Delete Task \n",
      "5. Logout \n",
      "6. Exit\n"
     ]
    },
    {
     "name": "stdin",
     "output_type": "stream",
     "text": [
      "enter your choice:  2\n"
     ]
    },
    {
     "name": "stdout",
     "output_type": "stream",
     "text": [
      "ID: 1 | Buy grocery | Pending\n",
      "ID: 2 | Visit Doctor | Pending\n",
      "---- Task Manager ----\n",
      "---- Welcome xavi ----\n",
      "1. Add Task \n",
      "2. View Tasks \n",
      "3. Mark Completed \n",
      "4. Delete Task \n",
      "5. Logout \n",
      "6. Exit\n"
     ]
    },
    {
     "name": "stdin",
     "output_type": "stream",
     "text": [
      "enter your choice:  3\n",
      "Enter task ID to mark as completed:  1\n"
     ]
    },
    {
     "name": "stdout",
     "output_type": "stream",
     "text": [
      "Task marked as completed\n",
      "---- Task Manager ----\n",
      "---- Welcome xavi ----\n",
      "1. Add Task \n",
      "2. View Tasks \n",
      "3. Mark Completed \n",
      "4. Delete Task \n",
      "5. Logout \n",
      "6. Exit\n"
     ]
    },
    {
     "name": "stdin",
     "output_type": "stream",
     "text": [
      "enter your choice:  4\n",
      "Enter task ID to delete:  1\n"
     ]
    },
    {
     "name": "stdout",
     "output_type": "stream",
     "text": [
      "Task id1 deleted.\n",
      "---- Task Manager ----\n",
      "---- Welcome xavi ----\n",
      "1. Add Task \n",
      "2. View Tasks \n",
      "3. Mark Completed \n",
      "4. Delete Task \n",
      "5. Logout \n",
      "6. Exit\n"
     ]
    },
    {
     "name": "stdin",
     "output_type": "stream",
     "text": [
      "enter your choice:  5\n"
     ]
    },
    {
     "name": "stdout",
     "output_type": "stream",
     "text": [
      "User (xavi) logged out.\n",
      "---- Task Manager ----\n",
      "1. Register \n",
      "2. Login \n",
      "3. Exit\n"
     ]
    },
    {
     "name": "stdin",
     "output_type": "stream",
     "text": [
      "enter your choice:  3\n"
     ]
    }
   ],
   "source": [
    "display_menu()"
   ]
  },
  {
   "cell_type": "code",
   "execution_count": null,
   "id": "74b935cd-75b4-4f0b-8368-8970f0795c06",
   "metadata": {},
   "outputs": [],
   "source": []
  }
 ],
 "metadata": {
  "kernelspec": {
   "display_name": "Python 3 (ipykernel)",
   "language": "python",
   "name": "python3"
  },
  "language_info": {
   "codemirror_mode": {
    "name": "ipython",
    "version": 3
   },
   "file_extension": ".py",
   "mimetype": "text/x-python",
   "name": "python",
   "nbconvert_exporter": "python",
   "pygments_lexer": "ipython3",
   "version": "3.12.7"
  }
 },
 "nbformat": 4,
 "nbformat_minor": 5
}
