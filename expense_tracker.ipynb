{
 "cells": [
  {
   "cell_type": "code",
   "execution_count": 1,
   "id": "bcdad126-8b3b-4ce4-954b-1e6a1c2ae176",
   "metadata": {},
   "outputs": [],
   "source": [
    "import csv\n",
    "import os"
   ]
  },
  {
   "cell_type": "code",
   "execution_count": 2,
   "id": "4a2c236c-2edd-466f-b9cd-29a719478828",
   "metadata": {},
   "outputs": [],
   "source": [
    "expenses = []\n",
    "monthly_budget = 0\n",
    "file_path = \"expenses.csv\""
   ]
  },
  {
   "cell_type": "code",
   "execution_count": 3,
   "id": "39287a42-5115-44e4-bd47-83db52c1bba7",
   "metadata": {},
   "outputs": [],
   "source": [
    "def add_expense():\n",
    "    print(\"\\n----Add Expense----\")\n",
    "    print(\"Enter the details of the expense:\")\n",
    "    date = input(\"Enter date (YYYY-MM-DD): \")\n",
    "    category = input(\"Enter category: \")\n",
    "    amount = float(input(\"Enter amount: \"))\n",
    "    description = input(\"Enter description: \")\n",
    "    expense = {\n",
    "        'date': date,\n",
    "        'category': category,\n",
    "        'amount': amount,\n",
    "        'description': description\n",
    "    }\n",
    "    expenses.append(expense)"
   ]
  },
  {
   "cell_type": "code",
   "execution_count": 4,
   "id": "1b2e21fc-4395-4adb-9e7b-1d7931743422",
   "metadata": {},
   "outputs": [],
   "source": [
    "def view_expenses():\n",
    "    print(\"\\n----View Expense----\")\n",
    "    if not expenses:\n",
    "        print(\"No expenses found.\")\n",
    "        return\n",
    "    for expense in expenses:\n",
    "        if expense['date'] is None or expense['date'] == '':\n",
    "            print(\"Entry has missing date - skipping\")\n",
    "            continue\n",
    "        \n",
    "        if expense['category'] is None or expense['category'] == '':\n",
    "            print(\"Entry has missing category - skipping\")\n",
    "            continue\n",
    "        \n",
    "        if expense['amount'] is None or expense['amount'] == '':\n",
    "            print(\"Entry has missing amount - skipping\")\n",
    "            continue\n",
    "        \n",
    "        if expense['description'] is None or expense['description'] == '':\n",
    "            print(\"Entry has missing description - skipping\")\n",
    "            continue\n",
    "        \n",
    "      \n",
    "        print(f\"Date: {expense['date']}, Category: {expense['category']}, Amount: {expense['amount']}, Description: {expense['description']}\")\n"
   ]
  },
  {
   "cell_type": "code",
   "execution_count": 5,
   "id": "ef44f464-2369-423b-9a9f-23728fed2869",
   "metadata": {},
   "outputs": [],
   "source": [
    "def get_total_expenses():\n",
    "    return sum(expense['amount'] for expense in expenses)"
   ]
  },
  {
   "cell_type": "code",
   "execution_count": 6,
   "id": "6b68c446-0a0f-4e3a-af8d-d2489f678345",
   "metadata": {},
   "outputs": [],
   "source": [
    "def set_monthly_budget():\n",
    "    global monthly_budget\n",
    "    try:\n",
    "        budget = float(input(\"Enter your total monthly budget: \"))\n",
    "        if budget < 0:\n",
    "            print(\"Budget cannot be negative.\")\n",
    "            return\n",
    "        monthly_budget = budget\n",
    "    except ValueError:\n",
    "        print(\"Please enter a valid number.\")"
   ]
  },
  {
   "cell_type": "code",
   "execution_count": 7,
   "id": "c4249b87-1dbe-447b-8749-96202d77f423",
   "metadata": {},
   "outputs": [],
   "source": [
    "def check_budget_status():\n",
    "    total = get_total_expenses()\n",
    "    if monthly_budget == 0:\n",
    "        print(\"No monthly budget has been set. Please set a budget first.\")\n",
    "        return\n",
    "        \n",
    "    if total > monthly_budget:\n",
    "        print(f\"You have exceeded your budget by {total - monthly_budget:.2f}!\")\n",
    "    else:\n",
    "        remaining = monthly_budget - total\n",
    "        print(f\"You have {remaining:.2f} left for the month.\")\n"
   ]
  },
  {
   "cell_type": "code",
   "execution_count": 8,
   "id": "f1184450-9935-47a5-9902-34575bcd5e2d",
   "metadata": {},
   "outputs": [],
   "source": [
    "def save_expenses():\n",
    "    try:\n",
    "        with open(file_path, 'w', newline='') as file:\n",
    "            writer = csv.writer(file)\n",
    "            writer.writerow([\"Date\", \"Category\", \"Amount\", \"Description\"])\n",
    "            for expense in expenses:\n",
    "                writer.writerow([expense['date'], expense['category'], expense['amount'], expense['description']])\n",
    "        print(f\"Expenses saved successfully to {file_path}\")\n",
    "    except Exception as e:\n",
    "        print(f\"Error saving expenses: {e}\")"
   ]
  },
  {
   "cell_type": "code",
   "execution_count": 9,
   "id": "38f860a1-245d-411a-a04e-a2d725688333",
   "metadata": {},
   "outputs": [],
   "source": [
    "def load_expenses():\n",
    "    try:\n",
    "        if not os.path.exists(file_path):\n",
    "            print(\"No previous expense data found.\")\n",
    "            return\n",
    "            \n",
    "        with open(file_path, 'r', newline='') as file:\n",
    "            reader = csv.reader(file)\n",
    "            next(reader)\n",
    "            for row in reader:\n",
    "                if len(row) == 4:\n",
    "                    date, category, amount, description = row\n",
    "                    try:\n",
    "                        amount = float(amount)\n",
    "                        expense = {\n",
    "                            'date': date,\n",
    "                            'category': category,\n",
    "                            'amount': amount,\n",
    "                            'description': description\n",
    "                        }\n",
    "                        expenses.append(expense)\n",
    "                    except ValueError:\n",
    "                        print(f\"invalid amount in row: {row}\")\n",
    "        print(\"Previous expenses loaded successfully.\")\n",
    "    except Exception as e:\n",
    "        print(f\"Error loading expenses: {e}\")\n"
   ]
  },
  {
   "cell_type": "code",
   "execution_count": 10,
   "id": "63dbd3df-dd4b-4b43-af97-c22686f940a3",
   "metadata": {},
   "outputs": [],
   "source": [
    "def display_menu():\n",
    "    while True:\n",
    "        print(\"Press 1 for Add Expense\")\n",
    "        print(\"Press 2 View Expenses\")\n",
    "        print(\"Press 3 Track Budget\")\n",
    "        print(\"Press 4 Save expenses\")\n",
    "        print(\"Press 5 to Exit\")\n",
    "        choice = input(\"Enter your choice: \")\n",
    "        if choice == '1':\n",
    "            add_expense()\n",
    "        elif choice == '2':\n",
    "            view_expenses()\n",
    "        elif choice == '3':\n",
    "            set_monthly_budget()\n",
    "            check_budget_status()\n",
    "        elif choice == '4':\n",
    "            save_expenses()       \n",
    "            break\n",
    "        elif choice == '5':\n",
    "            break\n",
    "        else:\n",
    "            print(\"Invalid choice. Please try again.\")"
   ]
  },
  {
   "cell_type": "code",
   "execution_count": 11,
   "id": "1e2a5bc5-4735-4765-96d2-a0ff018e0b6b",
   "metadata": {},
   "outputs": [
    {
     "name": "stdout",
     "output_type": "stream",
     "text": [
      "Previous expenses loaded successfully.\n",
      "Press 1 for Add Expense\n",
      "Press 2 View Expenses\n",
      "Press 3 Track Budget\n",
      "Press 4 Save expenses\n",
      "Press 5 to Exit\n"
     ]
    },
    {
     "name": "stdin",
     "output_type": "stream",
     "text": [
      "Enter your choice:  1\n"
     ]
    },
    {
     "name": "stdout",
     "output_type": "stream",
     "text": [
      "\n",
      "----Add Expense----\n",
      "Enter the details of the expense:\n"
     ]
    },
    {
     "name": "stdin",
     "output_type": "stream",
     "text": [
      "Enter date (YYYY-MM-DD):  2025-06-21\n",
      "Enter category:  Movie\n",
      "Enter amount:  1000\n",
      "Enter description:  Watching movie with friend\n"
     ]
    },
    {
     "name": "stdout",
     "output_type": "stream",
     "text": [
      "Press 1 for Add Expense\n",
      "Press 2 View Expenses\n",
      "Press 3 Track Budget\n",
      "Press 4 Save expenses\n",
      "Press 5 to Exit\n"
     ]
    },
    {
     "name": "stdin",
     "output_type": "stream",
     "text": [
      "Enter your choice:  1\n"
     ]
    },
    {
     "name": "stdout",
     "output_type": "stream",
     "text": [
      "\n",
      "----Add Expense----\n",
      "Enter the details of the expense:\n"
     ]
    },
    {
     "name": "stdin",
     "output_type": "stream",
     "text": [
      "Enter date (YYYY-MM-DD):  2025-06-22\n",
      "Enter category:  Food\n",
      "Enter amount:  2000\n",
      "Enter description:  Family dinner\n"
     ]
    },
    {
     "name": "stdout",
     "output_type": "stream",
     "text": [
      "Press 1 for Add Expense\n",
      "Press 2 View Expenses\n",
      "Press 3 Track Budget\n",
      "Press 4 Save expenses\n",
      "Press 5 to Exit\n"
     ]
    },
    {
     "name": "stdin",
     "output_type": "stream",
     "text": [
      "Enter your choice:  2\n"
     ]
    },
    {
     "name": "stdout",
     "output_type": "stream",
     "text": [
      "\n",
      "----View Expense----\n",
      "Date: 2025-12-12, Category: Movie, Amount: 1000.0, Description: Mo\n",
      "Date: 2025-12-12, Category: Misc, Amount: 2000.0, Description: Test\n",
      "Date: 2025-06-21, Category: Movie, Amount: 1000.0, Description: Watching movie with friend\n",
      "Date: 2025-06-22, Category: Food, Amount: 2000.0, Description: Family dinner\n",
      "Press 1 for Add Expense\n",
      "Press 2 View Expenses\n",
      "Press 3 Track Budget\n",
      "Press 4 Save expenses\n",
      "Press 5 to Exit\n"
     ]
    },
    {
     "name": "stdin",
     "output_type": "stream",
     "text": [
      "Enter your choice:  3\n",
      "Enter your total monthly budget:  10000\n"
     ]
    },
    {
     "name": "stdout",
     "output_type": "stream",
     "text": [
      "You have 4000.00 left for the month.\n",
      "Press 1 for Add Expense\n",
      "Press 2 View Expenses\n",
      "Press 3 Track Budget\n",
      "Press 4 Save expenses\n",
      "Press 5 to Exit\n"
     ]
    },
    {
     "name": "stdin",
     "output_type": "stream",
     "text": [
      "Enter your choice:  4\n"
     ]
    },
    {
     "name": "stdout",
     "output_type": "stream",
     "text": [
      "Expenses saved successfully to expenses.csv\n"
     ]
    }
   ],
   "source": [
    "load_expenses()\n",
    "display_menu()"
   ]
  },
  {
   "cell_type": "code",
   "execution_count": null,
   "id": "19cd7cd7-56c2-406b-8a0d-fe3e77b09357",
   "metadata": {},
   "outputs": [],
   "source": []
  }
 ],
 "metadata": {
  "kernelspec": {
   "display_name": "Python 3 (ipykernel)",
   "language": "python",
   "name": "python3"
  },
  "language_info": {
   "codemirror_mode": {
    "name": "ipython",
    "version": 3
   },
   "file_extension": ".py",
   "mimetype": "text/x-python",
   "name": "python",
   "nbconvert_exporter": "python",
   "pygments_lexer": "ipython3",
   "version": "3.12.7"
  }
 },
 "nbformat": 4,
 "nbformat_minor": 5
}
